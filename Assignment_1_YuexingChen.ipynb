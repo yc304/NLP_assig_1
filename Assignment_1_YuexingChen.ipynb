{
 "cells": [
  {
   "cell_type": "code",
   "execution_count": null,
   "metadata": {},
   "outputs": [],
   "source": [
    "# Chapter 1"
   ]
  },
  {
   "cell_type": "code",
   "execution_count": null,
   "metadata": {},
   "outputs": [],
   "source": [
    "# You should install NLTK, import NlTK and download the NLTK Book Collection at the beginning."
   ]
  },
  {
   "cell_type": "code",
   "execution_count": 1,
   "metadata": {},
   "outputs": [],
   "source": [
    "import nltk"
   ]
  },
  {
   "cell_type": "code",
   "execution_count": 2,
   "metadata": {},
   "outputs": [
    {
     "name": "stdout",
     "output_type": "stream",
     "text": [
      "*** Introductory Examples for the NLTK Book ***\n",
      "Loading text1, ..., text9 and sent1, ..., sent9\n",
      "Type the name of the text or sentence to view it.\n",
      "Type: 'texts()' or 'sents()' to list the materials.\n",
      "text1: Moby Dick by Herman Melville 1851\n",
      "text2: Sense and Sensibility by Jane Austen 1811\n",
      "text3: The Book of Genesis\n",
      "text4: Inaugural Address Corpus\n",
      "text5: Chat Corpus\n",
      "text6: Monty Python and the Holy Grail\n",
      "text7: Wall Street Journal\n",
      "text8: Personals Corpus\n",
      "text9: The Man Who Was Thursday by G . K . Chesterton 1908\n"
     ]
    }
   ],
   "source": [
    "from nltk import *\n",
    "from nltk.book import *\n",
    "from nltk.corpus import gutenberg"
   ]
  },
  {
   "cell_type": "code",
   "execution_count": 3,
   "metadata": {},
   "outputs": [],
   "source": [
    "# Question 1.1 Find the collocations in text2 from NLTK Book Collection"
   ]
  },
  {
   "cell_type": "code",
   "execution_count": 4,
   "metadata": {},
   "outputs": [
    {
     "name": "stdout",
     "output_type": "stream",
     "text": [
      "Colonel Brandon; Sir John; Lady Middleton; Miss Dashwood; every thing;\n",
      "thousand pounds; dare say; Miss Steeles; said Elinor; Miss Steele;\n",
      "every body; John Dashwood; great deal; Harley Street; Berkeley Street;\n",
      "Miss Dashwoods; young man; Combe Magna; every day; next morning\n"
     ]
    }
   ],
   "source": [
    "text2.collocations()"
   ]
  },
  {
   "cell_type": "code",
   "execution_count": 5,
   "metadata": {},
   "outputs": [],
   "source": [
    "# Question 1.2 Review the discussion of conditionals in 4. Find all words in the Chat Corpus (text5) ending with the letter l. Show them in alphabetical order."
   ]
  },
  {
   "cell_type": "code",
   "execution_count": 6,
   "metadata": {},
   "outputs": [
    {
     "data": {
      "text/plain": [
       "[\"'ll\",\n",
       " 'Cool',\n",
       " 'Ctrl',\n",
       " 'Daniel',\n",
       " 'Devil',\n",
       " 'Evil',\n",
       " 'Girl',\n",
       " 'Hail',\n",
       " 'Hill',\n",
       " 'Kewl',\n",
       " 'LOl',\n",
       " 'Lil',\n",
       " 'Lol',\n",
       " 'Paul',\n",
       " 'Paxil',\n",
       " 'PayPal',\n",
       " 'Pearl',\n",
       " 'Phil',\n",
       " 'Rascal',\n",
       " 'Rofl',\n",
       " 'School',\n",
       " 'Steel',\n",
       " 'Still',\n",
       " 'Tell',\n",
       " 'Troll',\n",
       " 'Until',\n",
       " 'VVil',\n",
       " 'Well',\n",
       " 'Will',\n",
       " 'al',\n",
       " 'alcohol',\n",
       " 'all',\n",
       " 'anal',\n",
       " 'angel',\n",
       " 'animal',\n",
       " 'anygirl',\n",
       " 'april',\n",
       " 'asl',\n",
       " 'astral',\n",
       " 'atl',\n",
       " 'bacl',\n",
       " 'bagel',\n",
       " 'ball',\n",
       " 'barrel',\n",
       " 'bbl',\n",
       " 'beautiful',\n",
       " 'bell',\n",
       " 'betrayal',\n",
       " 'bisexual',\n",
       " 'bowl',\n",
       " 'bull',\n",
       " 'cal',\n",
       " 'call',\n",
       " 'camel',\n",
       " 'careful',\n",
       " 'cell',\n",
       " 'channel',\n",
       " 'coastal',\n",
       " 'control',\n",
       " 'controll',\n",
       " 'cool',\n",
       " 'coudl',\n",
       " 'daniel',\n",
       " 'deal',\n",
       " 'denial',\n",
       " 'denzel',\n",
       " 'devil',\n",
       " 'distrustful',\n",
       " 'dl',\n",
       " 'doll',\n",
       " 'e-mail',\n",
       " 'el',\n",
       " 'email',\n",
       " 'equal',\n",
       " 'evil',\n",
       " 'fall',\n",
       " 'fantastical',\n",
       " 'feel',\n",
       " 'financial',\n",
       " 'fl',\n",
       " 'fongul',\n",
       " 'fool',\n",
       " 'football',\n",
       " 'full',\n",
       " 'gal',\n",
       " 'genital',\n",
       " 'girl',\n",
       " 'grrl',\n",
       " 'gurrrrl',\n",
       " 'hail',\n",
       " 'hall',\n",
       " 'heal',\n",
       " 'hel',\n",
       " 'hell',\n",
       " 'helpful',\n",
       " 'hill',\n",
       " 'homosexual',\n",
       " 'howl',\n",
       " 'il',\n",
       " 'ill',\n",
       " 'individual',\n",
       " 'irl',\n",
       " 'jail',\n",
       " 'kewl',\n",
       " 'kill',\n",
       " 'kool',\n",
       " 'l',\n",
       " 'label',\n",
       " 'lawl',\n",
       " 'level',\n",
       " 'lil',\n",
       " 'll',\n",
       " 'local',\n",
       " 'lol',\n",
       " 'lolol',\n",
       " 'lolololll',\n",
       " 'lool',\n",
       " 'lysol',\n",
       " 'magical',\n",
       " 'maniacal',\n",
       " 'metal',\n",
       " 'moral',\n",
       " 'national',\n",
       " 'natural',\n",
       " 'novel',\n",
       " 'oatmeal',\n",
       " 'oatmel',\n",
       " 'occasional',\n",
       " 'official',\n",
       " 'oil',\n",
       " 'ol',\n",
       " 'original',\n",
       " 'painful',\n",
       " 'pal',\n",
       " 'partial',\n",
       " 'paxil',\n",
       " 'paypal',\n",
       " 'peel',\n",
       " 'personal',\n",
       " 'phil',\n",
       " 'physical',\n",
       " 'pmsl',\n",
       " 'political',\n",
       " 'poll',\n",
       " 'pool',\n",
       " 'ppl',\n",
       " 'ppolitical',\n",
       " 'pull',\n",
       " 'quarrel',\n",
       " 'real',\n",
       " 'recall',\n",
       " 'refill',\n",
       " 'reschedual',\n",
       " 'rofl',\n",
       " 'roll',\n",
       " 'school',\n",
       " 'scroll',\n",
       " 'sell',\n",
       " 'sexual',\n",
       " 'shall',\n",
       " 'shell',\n",
       " 'shopgirl',\n",
       " 'small',\n",
       " 'smell',\n",
       " 'soul',\n",
       " 'special',\n",
       " 'spell',\n",
       " 'steal',\n",
       " 'still',\n",
       " 'tail',\n",
       " 'tall',\n",
       " 'technical',\n",
       " 'tell',\n",
       " 'thrill',\n",
       " 'til',\n",
       " 'till',\n",
       " 'total',\n",
       " 'towel',\n",
       " 'troll',\n",
       " 'twoel',\n",
       " 'unreal',\n",
       " 'until',\n",
       " 'unusual',\n",
       " 'url',\n",
       " 'use full',\n",
       " 'usual',\n",
       " 'vinyl',\n",
       " 'virginal',\n",
       " 'visual',\n",
       " 'wall',\n",
       " 'weasel',\n",
       " 'wel',\n",
       " 'well',\n",
       " 'welll',\n",
       " 'wheel',\n",
       " 'will',\n",
       " 'withdrawal',\n",
       " 'withdrawl',\n",
       " 'wonderful',\n",
       " 'worl',\n",
       " 'yall',\n",
       " 'yell',\n",
       " 'yoll']"
      ]
     },
     "execution_count": 6,
     "metadata": {},
     "output_type": "execute_result"
    }
   ],
   "source": [
    "sorted(set([w for w in text5 if w.endswith('l')]))"
   ]
  },
  {
   "cell_type": "code",
   "execution_count": 7,
   "metadata": {},
   "outputs": [],
   "source": [
    "# Question 1.3 What is the difference between the following two lines of codes? Which one will give a larger value? Will this be the case for other texts?\n",
    "# sorted(set(w.lower() for w in text2))\n",
    "# sorted(w.lower() for w in set(text2))"
   ]
  },
  {
   "cell_type": "code",
   "execution_count": 8,
   "metadata": {},
   "outputs": [],
   "source": [
    "# Answer:\n",
    "# Difference: The first line of code converts all the strings to lower\n",
    "            # case first, then removes duplicates and then sorts. \n",
    "            # The second line of code removes duplicates first, then\n",
    "            # converts to lower case and then sorts.\n",
    "# Line 2, sorted(w.lower() for w in set(text2)), will give a larger value.\n",
    "# Yes, this will be the case for other texts if duplicates exist."
   ]
  },
  {
   "cell_type": "code",
   "execution_count": 9,
   "metadata": {},
   "outputs": [],
   "source": [
    "# Question 1.4 Find all the Twelve-letter words in the Chat Corpus (text2). With the help of a frequency distribution (FreqDist), show these words in decreasing order of frequency."
   ]
  },
  {
   "cell_type": "code",
   "execution_count": 10,
   "metadata": {},
   "outputs": [
    {
     "data": {
      "text/plain": [
       "[('acquaintance', 64),\n",
       " ('conversation', 39),\n",
       " ('satisfaction', 37),\n",
       " ('particularly', 34),\n",
       " ('affectionate', 22),\n",
       " ('circumstance', 19),\n",
       " ('indifference', 19),\n",
       " ('recollection', 18),\n",
       " ('intelligence', 17),\n",
       " ('difficulties', 17),\n",
       " ('astonishment', 17),\n",
       " ('cheerfulness', 16),\n",
       " ('disappointed', 16),\n",
       " ('considerable', 15),\n",
       " ('acknowledged', 12),\n",
       " ('endeavouring', 10),\n",
       " ('commendation', 8),\n",
       " ('independence', 7),\n",
       " ('improvements', 7),\n",
       " ('satisfactory', 7),\n",
       " ('dissatisfied', 6),\n",
       " ('communicated', 6),\n",
       " ('wretchedness', 5),\n",
       " ('expectations', 5),\n",
       " ('impertinence', 5),\n",
       " ('congratulate', 5),\n",
       " ('observations', 5),\n",
       " ('accidentally', 5),\n",
       " ('contradicted', 5),\n",
       " ('recollecting', 4),\n",
       " ('handkerchief', 4),\n",
       " ('tranquillity', 4),\n",
       " ('unpardonable', 4),\n",
       " ('relationship', 3),\n",
       " ('irresistible', 3),\n",
       " ('comprehended', 3),\n",
       " ('expressively', 3),\n",
       " ('arrangements', 3),\n",
       " ('intermission', 3),\n",
       " ('disadvantage', 3),\n",
       " ('advantageous', 3),\n",
       " ('introduction', 3),\n",
       " ('condemnation', 3),\n",
       " ('unprincipled', 3),\n",
       " ('graciousness', 3),\n",
       " ('constitution', 3),\n",
       " ('strengthened', 3),\n",
       " ('presentation', 3),\n",
       " ('disagreeable', 2),\n",
       " ('occasionally', 2),\n",
       " ('unreasonable', 2),\n",
       " ('housekeeping', 2),\n",
       " ('performances', 2),\n",
       " ('propensities', 2),\n",
       " ('inclinations', 2),\n",
       " ('insinuations', 2),\n",
       " ('acquiescence', 2),\n",
       " ('perseverance', 2),\n",
       " ('deficiencies', 2),\n",
       " ('friendliness', 2),\n",
       " ('apprehensive', 2),\n",
       " ('undiscerning', 2),\n",
       " ('unanswerable', 2),\n",
       " ('accomplished', 2),\n",
       " ('perverseness', 2),\n",
       " ('insufficient', 2),\n",
       " ('interruption', 2),\n",
       " ('lamentations', 2),\n",
       " ('backwardness', 2),\n",
       " ('carelessness', 2),\n",
       " ('explanations', 2),\n",
       " ('sufficiently', 2),\n",
       " ('conveniences', 2),\n",
       " ('thoughtfully', 2),\n",
       " ('contemptuous', 2),\n",
       " ('confirmation', 2),\n",
       " ('enthusiastic', 2),\n",
       " ('consequences', 2),\n",
       " ('unfavourable', 2),\n",
       " ('complaisance', 2),\n",
       " ('watchfulness', 2),\n",
       " ('irremediable', 2),\n",
       " ('supplication', 2),\n",
       " ('hesitatingly', 2),\n",
       " ('guardianship', 2),\n",
       " ('extravagance', 2),\n",
       " ('Recollecting', 2),\n",
       " ('unrestrained', 2),\n",
       " ('apprehension', 2),\n",
       " ('deliberating', 2),\n",
       " ('consequently', 2),\n",
       " ('experiencing', 2),\n",
       " ('annihilation', 2),\n",
       " ('articulation', 1),\n",
       " ('economically', 1),\n",
       " ('successively', 1),\n",
       " ('inconvenient', 1),\n",
       " ('remembrances', 1),\n",
       " ('uninfluenced', 1),\n",
       " ('impenetrable', 1),\n",
       " ('imperfection', 1),\n",
       " ('deliberation', 1),\n",
       " ('undoubtingly', 1),\n",
       " ('honeysuckles', 1),\n",
       " ('recommending', 1),\n",
       " ('Conversation', 1),\n",
       " ('gracefulness', 1),\n",
       " ('construction', 1),\n",
       " ('transparency', 1),\n",
       " ('passionately', 1),\n",
       " ('excellencies', 1),\n",
       " ('illustration', 1),\n",
       " ('representing', 1),\n",
       " ('conveniently', 1),\n",
       " ('consultation', 1),\n",
       " ('pleasantness', 1),\n",
       " ('incompatible', 1),\n",
       " ('exhilaration', 1),\n",
       " ('inadvertence', 1),\n",
       " ('prosperously', 1),\n",
       " ('overstrained', 1),\n",
       " ('continuation', 1),\n",
       " ('transporting', 1),\n",
       " ('reservedness', 1),\n",
       " ('promontories', 1),\n",
       " ('henceforward', 1),\n",
       " ('instructions', 1),\n",
       " ('Disappointed', 1),\n",
       " ('unaffectedly', 1),\n",
       " ('establishing', 1),\n",
       " ('successfully', 1),\n",
       " ('distractedly', 1),\n",
       " ('significancy', 1),\n",
       " ('Astonishment', 1),\n",
       " ('indisputable', 1),\n",
       " ('confidential', 1),\n",
       " ('unexpectedly', 1),\n",
       " ('cautiousness', 1),\n",
       " ('counteracted', 1),\n",
       " ('perturbation', 1),\n",
       " ('mysteriously', 1),\n",
       " ('neighbouring', 1),\n",
       " ('commissioned', 1),\n",
       " ('interference', 1),\n",
       " ('insufferably', 1),\n",
       " ('exclamations', 1),\n",
       " ('irritability', 1),\n",
       " ('unreasonably', 1),\n",
       " ('contributing', 1),\n",
       " ('premeditated', 1),\n",
       " ('unfathomable', 1),\n",
       " ('preparations', 1),\n",
       " ('outstretched', 1),\n",
       " ('dishonorable', 1),\n",
       " ('unworthiness', 1),\n",
       " ('humiliations', 1),\n",
       " ('overpowering', 1),\n",
       " ('relinquished', 1),\n",
       " ('prepossessed', 1),\n",
       " ('prodigiously', 1),\n",
       " ('proportioned', 1),\n",
       " ('grandmothers', 1),\n",
       " ('delightfully', 1),\n",
       " ('contribution', 1),\n",
       " ('conciliation', 1),\n",
       " ('imaginations', 1),\n",
       " ('mechanically', 1),\n",
       " ('refreshments', 1),\n",
       " ('impartiality', 1),\n",
       " ('triumphantly', 1),\n",
       " ('interrupting', 1),\n",
       " ('persecutions', 1),\n",
       " ('respectfully', 1),\n",
       " ('solicitation', 1),\n",
       " ('benefactress', 1),\n",
       " ('anticipation', 1),\n",
       " ('impoverished', 1),\n",
       " ('immoderately', 1),\n",
       " ('considerably', 1),\n",
       " ('disapproving', 1),\n",
       " ('extinguished', 1),\n",
       " ('interspersed', 1),\n",
       " ('auspiciously', 1),\n",
       " ('inarticulate', 1),\n",
       " ('incoherently', 1),\n",
       " ('intelligible', 1),\n",
       " ('intoxication', 1),\n",
       " ('contemptible', 1),\n",
       " ('discontented', 1),\n",
       " ('Thunderbolts', 1),\n",
       " ('breakfasting', 1),\n",
       " ('ingratiating', 1),\n",
       " ('Extravagance', 1),\n",
       " ('undesignedly', 1),\n",
       " ('anticipating', 1),\n",
       " ('conjecturing', 1),\n",
       " ('inexperience', 1),\n",
       " ('entanglement', 1),\n",
       " ('familiarized', 1),\n",
       " ('disinherited', 1),\n",
       " ('ungraciously', 1),\n",
       " ('dilatoriness', 1),\n",
       " ('transgressed', 1),\n",
       " ('inconsolable', 1),\n",
       " ('disagreement', 1)]"
      ]
     },
     "execution_count": 10,
     "metadata": {},
     "output_type": "execute_result"
    }
   ],
   "source": [
    "fdist=FreqDist([w for w in text2 if len(w)==12])\n",
    "fdist.most_common()"
   ]
  },
  {
   "cell_type": "code",
   "execution_count": 11,
   "metadata": {},
   "outputs": [],
   "source": [
    "# Question 1.5 Review the discussion of looping with conditions in Section 4 in Chapter 1. Use a combination of for and if statements to loop over the tokens of text2 and print all the distinct punctuation, one per line."
   ]
  },
  {
   "cell_type": "code",
   "execution_count": 12,
   "metadata": {},
   "outputs": [
    {
     "name": "stdout",
     "output_type": "stream",
     "text": [
      "[\n",
      "]\n",
      ".\n",
      ",\n",
      ";\n",
      "'\n",
      ":\n",
      "-\n",
      ";--\n",
      ":--\n",
      ".--\n",
      "\"\n",
      "!\n",
      ".\"--\n",
      "?\n",
      ",\"\n",
      ".\"\n",
      "--\"\n",
      "!\"\n",
      "--\n",
      "!--\n",
      "?--\n",
      "?\"\n",
      "!\"--\n",
      "(\n",
      ",)\n",
      ")\n",
      ",'\n",
      ",--\n",
      "\"--\n",
      ",--\"\n",
      ";\"\n",
      ".--\"\n",
      "?\"--\n",
      "...\n",
      "&\n",
      "***\n",
      ",\"--\n",
      ";--\"\n",
      ".'\"\n",
      "\"'\n",
      ".]\n",
      "-?\n",
      "-?\"\n",
      "',\n",
      "),\n",
      "'--\n",
      "!--\"\n",
      ")--\n",
      ".'\n",
      "?'\n",
      "--'\n",
      "!'\n",
      ";'\n",
      ",-\n",
      ".)--\n",
      "--,\n",
      "!'\"\n",
      "...\"\n",
      ";\"--\n",
      "?--\"\n",
      ".)\n",
      ":--\"\n",
      "--(\n",
      "?)\n",
      ".'--\n",
      ">\n"
     ]
    }
   ],
   "source": [
    "unique = []\n",
    "for w in text2:\n",
    "    if not w.isalpha() and not w.isdigit() and not w.isalnum() and w not in unique:\n",
    "        unique.append(w)\n",
    "        print(w)"
   ]
  },
  {
   "cell_type": "code",
   "execution_count": null,
   "metadata": {},
   "outputs": [],
   "source": []
  },
  {
   "cell_type": "code",
   "execution_count": 13,
   "metadata": {},
   "outputs": [],
   "source": [
    "# Chapter 2"
   ]
  },
  {
   "cell_type": "code",
   "execution_count": 14,
   "metadata": {},
   "outputs": [],
   "source": [
    "# Question 2.1 Use Gutenberg Corpus Module to explore 'shakespeare-caesar.txt'.a. How many word tokens does this book have? b.How many word types? c. What is the lexical richness?"
   ]
  },
  {
   "cell_type": "code",
   "execution_count": 15,
   "metadata": {},
   "outputs": [
    {
     "data": {
      "text/plain": [
       "25833"
      ]
     },
     "execution_count": 15,
     "metadata": {},
     "output_type": "execute_result"
    }
   ],
   "source": [
    "caesar=gutenberg.words('shakespeare-caesar.txt')\n",
    "len(caesar)"
   ]
  },
  {
   "cell_type": "code",
   "execution_count": 16,
   "metadata": {},
   "outputs": [
    {
     "data": {
      "text/plain": [
       "3560"
      ]
     },
     "execution_count": 16,
     "metadata": {},
     "output_type": "execute_result"
    }
   ],
   "source": [
    "len(set(caesar))"
   ]
  },
  {
   "cell_type": "code",
   "execution_count": 17,
   "metadata": {},
   "outputs": [
    {
     "data": {
      "text/plain": [
       "0.1378082297836101"
      ]
     },
     "execution_count": 17,
     "metadata": {},
     "output_type": "execute_result"
    }
   ],
   "source": [
    "lexical=len(set(caesar))/len(caesar)\n",
    "lexical"
   ]
  },
  {
   "cell_type": "code",
   "execution_count": 18,
   "metadata": {},
   "outputs": [],
   "source": [
    "# Question 2.2 Explore the Section \"Hobbies\" in Brown Corpus. Count the number of wh words, such as what, when, where, who and why. Please make sure we are not double-counting words like “This” and “this”, which differ only in capitalization."
   ]
  },
  {
   "cell_type": "code",
   "execution_count": 19,
   "metadata": {},
   "outputs": [
    {
     "data": {
      "text/plain": [
       "34"
      ]
     },
     "execution_count": 19,
     "metadata": {},
     "output_type": "execute_result"
    }
   ],
   "source": [
    "from nltk.corpus import brown\n",
    "hobbies_text=brown.words(categories='hobbies')\n",
    "fdist=nltk.FreqDist(w.lower() for w in set(hobbies_text) if w.startswith('wh') or w.startswith('Wh') or w.startswith('WH') )\n",
    "len(fdist.items())"
   ]
  },
  {
   "cell_type": "code",
   "execution_count": 20,
   "metadata": {},
   "outputs": [],
   "source": [
    "# Question 2.3 Explore movie reviews corpus which contains 2k movie reviews with sentiment polarity classification (positive or negative reviews). Please find out the 20 most common words in the negative reviews and positive reviews,please get rid of stop words, number and punctuations from reviews. Please make sure we are not double-counting words like “This” and “this”, which differ only in capitalization. \n",
    "# Hint:\n",
    "#from nltk.corpus import movie_reviews\n",
    "#from nltk.corpus import stopwords"
   ]
  },
  {
   "cell_type": "code",
   "execution_count": 21,
   "metadata": {},
   "outputs": [],
   "source": [
    "from nltk.corpus import movie_reviews\n",
    "from nltk.corpus import stopwords"
   ]
  },
  {
   "cell_type": "code",
   "execution_count": 22,
   "metadata": {},
   "outputs": [
    {
     "name": "stdout",
     "output_type": "stream",
     "text": [
      "20 most common words in positive reviews: [('film', 5230), ('one', 3052), ('movie', 2525), ('like', 1802), ('good', 1248), ('story', 1246), ('time', 1243), ('also', 1200), ('even', 1179), ('well', 1123), ('character', 1078), ('life', 1057), ('much', 1038), ('would', 1019), ('first', 1004), ('two', 999), ('characters', 986), ('see', 965), ('way', 929), ('get', 897)]\n"
     ]
    }
   ],
   "source": [
    "# positive\n",
    "stopwords = nltk.corpus.stopwords.words('english')\n",
    "fdist = movie_reviews.words(categories='pos')\n",
    "posi_words= nltk.FreqDist(w.lower() \n",
    "                          for w in fdist if w not in stopwords and w.isalpha())\n",
    "print('20 most common words in positive reviews:', posi_words.most_common(20))"
   ]
  },
  {
   "cell_type": "code",
   "execution_count": 23,
   "metadata": {},
   "outputs": [
    {
     "name": "stdout",
     "output_type": "stream",
     "text": [
      "20 most common words in negative reviews: [('film', 4287), ('movie', 3246), ('one', 2800), ('like', 1888), ('even', 1386), ('time', 1168), ('good', 1163), ('would', 1090), ('get', 1052), ('bad', 1034), ('much', 1011), ('character', 942), ('story', 923), ('plot', 917), ('two', 912), ('characters', 873), ('make', 851), ('first', 832), ('could', 791), ('see', 784)]\n"
     ]
    }
   ],
   "source": [
    "# negative\n",
    "stopwords = nltk.corpus.stopwords.words('english')\n",
    "fdist1 = movie_reviews.words(categories='neg')\n",
    "nega_words = nltk.FreqDist(w.lower()\n",
    "                          for w in fdist1 if w not in stopwords and w.isalpha())\n",
    "print('20 most common words in negative reviews:', nega_words.most_common(20))"
   ]
  },
  {
   "cell_type": "code",
   "execution_count": 24,
   "metadata": {},
   "outputs": [],
   "source": [
    "# Question 2.4 Explore Names Corpus, which initial letters are more frequent for males vs. females? ((Hint: Plot of a Conditional Frequency Distribution will be useful for answering this question)"
   ]
  },
  {
   "cell_type": "code",
   "execution_count": 25,
   "metadata": {},
   "outputs": [
    {
     "data": {
      "image/png": "[encoded data removed]",
      "text/plain": [
       "<Figure size 432x288 with 1 Axes>"
      ]
     },
     "metadata": {
      "needs_background": "light"
     },
     "output_type": "display_data"
    },
    {
     "data": {
      "text/plain": [
       "<matplotlib.axes._subplots.AxesSubplot at 0x1e09fd17760>"
      ]
     },
     "execution_count": 25,
     "metadata": {},
     "output_type": "execute_result"
    }
   ],
   "source": [
    "names = nltk.corpus.names\n",
    "male_names = names.words('male.txt')\n",
    "female_names = names.words('female.txt')\n",
    "cfd = nltk.ConditionalFreqDist((fileid, name[0])\n",
    "                               for fileid in names.fileids()\n",
    "                               for name in names.words(fileid))\n",
    "cfd.plot()"
   ]
  },
  {
   "cell_type": "code",
   "execution_count": 26,
   "metadata": {},
   "outputs": [],
   "source": [
    "# Question 2.5 Use the Gutenberg Corpus module to explore austen-persuasion.txt. Write a function to find out the 20 most frequent occurring words of this text file that are not stopwords.Please get rid of numbers and punctuations.Please get rid of numbers and punctuations.Please get rid of numbers and punctuations. Please make sure we are not double-counting words like “This” and “this”, which differ only in capitalization.   "
   ]
  },
  {
   "cell_type": "code",
   "execution_count": 27,
   "metadata": {},
   "outputs": [
    {
     "data": {
      "text/plain": [
       "[('anne', 497),\n",
       " ('could', 451),\n",
       " ('would', 355),\n",
       " ('captain', 303),\n",
       " ('mrs', 291),\n",
       " ('elliot', 289),\n",
       " ('mr', 256),\n",
       " ('one', 238),\n",
       " ('must', 228),\n",
       " ('wentworth', 218),\n",
       " ('lady', 216),\n",
       " ('much', 205),\n",
       " ('good', 187),\n",
       " ('little', 176),\n",
       " ('said', 173),\n",
       " ('charles', 166),\n",
       " ('might', 166),\n",
       " ('well', 163),\n",
       " ('never', 155),\n",
       " ('time', 152)]"
      ]
     },
     "execution_count": 27,
     "metadata": {},
     "output_type": "execute_result"
    }
   ],
   "source": [
    "austen = gutenberg.words('austen-persuasion.txt')\n",
    "stopwords = nltk.corpus.stopwords.words('english')\n",
    "words = nltk.FreqDist(w.lower() for w in austen if w.lower() not in stopwords and w.isalpha())\n",
    "words.most_common(20)"
   ]
  },
  {
   "cell_type": "code",
   "execution_count": 28,
   "metadata": {},
   "outputs": [],
   "source": [
    "# Question 2.6 Use one of the path similarity measures to score the similarity of each of the following pairs of words. Rank the pairs in order of decreasing similarity: car-automobile,  journey-voyage, boy-lad, coast-shore,  midday-noon, furnace-stove, food-fruit, bird-cock, bird-crane, tool-implement,   journey-car,  cemetery-woodland, food-rooster, coast-hill, forest-graveyard, shore-woodland, coast-forest, lad-wizard, chord-smile, glass-magician, noon-string."
   ]
  },
  {
   "cell_type": "code",
   "execution_count": 29,
   "metadata": {},
   "outputs": [],
   "source": [
    "from operator import itemgetter\n",
    "from nltk.corpus import wordnet as wn"
   ]
  },
  {
   "cell_type": "code",
   "execution_count": 30,
   "metadata": {},
   "outputs": [
    {
     "name": "stdout",
     "output_type": "stream",
     "text": [
      "[('car', 'automobile', 1.0), ('midday', 'noon', 1.0), ('coast', 'shore', 0.5), ('tool', 'implement', 0.5), ('boy', 'lad', 0.3333333333333333), ('journey', 'voyage', 0.25), ('coast', 'hill', 0.2), ('shore', 'woodland', 0.2), ('lad', 'wizard', 0.2), ('monk', 'oracle', 0.125), ('bird', 'crane', 0.1111111111111111), ('cemetery', 'woodland', 0.1111111111111111), ('glass', 'magician', 0.1111111111111111), ('food', 'fruit', 0.09090909090909091), ('coast', 'forest', 0.09090909090909091), ('chord', 'smile', 0.09090909090909091), ('furnace', 'stove', 0.07692307692307693), ('forest', 'graveyard', 0.07142857142857142), ('bird', 'cock', 0.0625), ('food', 'rooster', 0.0625), ('noon', 'string', 0.058823529411764705), ('journey', 'car', 0.05)]\n"
     ]
    }
   ],
   "source": [
    "pairs = [('car', 'automobile'), ('journey', 'voyage'), ('boy', 'lad'), ('coast', 'shore'), ('midday', 'noon'), \n",
    "         ('furnace', 'stove'), ('food', 'fruit'), ('bird', 'cock'), ('bird', 'crane'), ('tool', 'implement'), \n",
    "         ('journey', 'car'), ('monk', 'oracle'), ('cemetery', 'woodland'), ('food', 'rooster'), ('coast', 'hill'),\n",
    "         ('forest', 'graveyard'), ('shore', 'woodland'),  ('coast', 'forest'), ('lad', 'wizard'), ('chord', 'smile'),\n",
    "         ('glass', 'magician'), ('noon', 'string')]\n",
    "path = []\n",
    "for word1, word2 in pairs:\n",
    "    path.append((word1, word2, wn.path_similarity(wn.synsets(word1)[0], wn.synsets(word2)[0])))\n",
    "print(sorted(path, key=itemgetter(2), reverse=True))"
   ]
  },
  {
   "cell_type": "code",
   "execution_count": null,
   "metadata": {},
   "outputs": [],
   "source": []
  },
  {
   "cell_type": "code",
   "execution_count": null,
   "metadata": {},
   "outputs": [],
   "source": []
  }
 ],
 "metadata": {
  "kernelspec": {
   "display_name": "Python 3",
   "language": "python",
   "name": "python3"
  },
  "language_info": {
   "codemirror_mode": {
    "name": "ipython",
    "version": 3
   },
   "file_extension": ".py",
   "mimetype": "text/x-python",
   "name": "python",
   "nbconvert_exporter": "python",
   "pygments_lexer": "ipython3",
   "version": "3.8.3"
  }
 },
 "nbformat": 4,
 "nbformat_minor": 2
}
